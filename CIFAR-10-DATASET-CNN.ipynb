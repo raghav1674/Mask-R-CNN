{
  "nbformat": 4,
  "nbformat_minor": 0,
  "metadata": {
    "colab": {
      "name": "Untitled19.ipynb",
      "provenance": [],
      "authorship_tag": "ABX9TyORnraRCdqBjYNpC13WoSgZ",
      "include_colab_link": true
    },
    "kernelspec": {
      "name": "python3",
      "display_name": "Python 3"
    },
    "accelerator": "GPU"
  },
  "cells": [
    {
      "cell_type": "markdown",
      "metadata": {
        "id": "view-in-github",
        "colab_type": "text"
      },
      "source": [
        "<a href=\"https://colab.research.google.com/github/raghav1674/Mask-R-CNN/blob/master/CIFAR-10-DATASET-CNN.ipynb\" target=\"_parent\"><img src=\"https://colab.research.google.com/assets/colab-badge.svg\" alt=\"Open In Colab\"/></a>"
      ]
    },
    {
      "cell_type": "code",
      "metadata": {
        "id": "djbijMkjhcFp",
        "colab_type": "code",
        "colab": {
          "base_uri": "https://localhost:8080/",
          "height": 70
        },
        "outputId": "d27ba3db-577c-494c-acf9-74bb9f0d38ac"
      },
      "source": [
        "import pandas as pd\n",
        "import matplotlib.pyplot as plt\n",
        "import seaborn as sns\n",
        "\n"
      ],
      "execution_count": 1,
      "outputs": [
        {
          "output_type": "stream",
          "text": [
            "/usr/local/lib/python3.6/dist-packages/statsmodels/tools/_testing.py:19: FutureWarning: pandas.util.testing is deprecated. Use the functions in the public API at pandas.testing instead.\n",
            "  import pandas.util.testing as tm\n"
          ],
          "name": "stderr"
        }
      ]
    },
    {
      "cell_type": "code",
      "metadata": {
        "id": "78jMhiWbhvW8",
        "colab_type": "code",
        "colab": {
          "base_uri": "https://localhost:8080/",
          "height": 34
        },
        "outputId": "8720c93a-1a5d-4591-90d9-181455c5a262"
      },
      "source": [
        "from keras.datasets import cifar10"
      ],
      "execution_count": 2,
      "outputs": [
        {
          "output_type": "stream",
          "text": [
            "Using TensorFlow backend.\n"
          ],
          "name": "stderr"
        }
      ]
    },
    {
      "cell_type": "code",
      "metadata": {
        "id": "M4L-zfMTh7WA",
        "colab_type": "code",
        "colab": {}
      },
      "source": [
        "(x_train,y_train),(x_test,y_test)=cifar10.load_data()"
      ],
      "execution_count": 3,
      "outputs": []
    },
    {
      "cell_type": "code",
      "metadata": {
        "id": "_ptztxNbiMmY",
        "colab_type": "code",
        "colab": {
          "base_uri": "https://localhost:8080/",
          "height": 283
        },
        "outputId": "b30e19e2-035d-475d-fc4d-e24034f22631"
      },
      "source": [
        "plt.imshow(x_train[3\n",
        "                   ])"
      ],
      "execution_count": 4,
      "outputs": [
        {
          "output_type": "execute_result",
          "data": {
            "text/plain": [
              "<matplotlib.image.AxesImage at 0x7f4ebbfcc518>"
            ]
          },
          "metadata": {
            "tags": []
          },
          "execution_count": 4
        },
        {
          "output_type": "display_data",
          "data": {
            "image/png": "[encoded data removed]",
            "text/plain": [
              "<Figure size 432x288 with 1 Axes>"
            ]
          },
          "metadata": {
            "tags": [],
            "needs_background": "light"
          }
        }
      ]
    },
    {
      "cell_type": "code",
      "metadata": {
        "id": "2firPvPiiWow",
        "colab_type": "code",
        "colab": {
          "base_uri": "https://localhost:8080/",
          "height": 34
        },
        "outputId": "825f36f3-46ad-481c-f425-cb158dc02109"
      },
      "source": [
        "x_train.shape"
      ],
      "execution_count": 5,
      "outputs": [
        {
          "output_type": "execute_result",
          "data": {
            "text/plain": [
              "(50000, 32, 32, 3)"
            ]
          },
          "metadata": {
            "tags": []
          },
          "execution_count": 5
        }
      ]
    },
    {
      "cell_type": "code",
      "metadata": {
        "id": "L__csRH4if7Z",
        "colab_type": "code",
        "colab": {
          "base_uri": "https://localhost:8080/",
          "height": 134
        },
        "outputId": "fd0dccfc-aaf5-4a4d-9dc6-56885c43701d"
      },
      "source": [
        "y_train"
      ],
      "execution_count": 6,
      "outputs": [
        {
          "output_type": "execute_result",
          "data": {
            "text/plain": [
              "array([[6],\n",
              "       [9],\n",
              "       [9],\n",
              "       ...,\n",
              "       [9],\n",
              "       [1],\n",
              "       [1]], dtype=uint8)"
            ]
          },
          "metadata": {
            "tags": []
          },
          "execution_count": 6
        }
      ]
    },
    {
      "cell_type": "code",
      "metadata": {
        "id": "QEW7KJT_io-s",
        "colab_type": "code",
        "colab": {}
      },
      "source": [
        "from keras.utils import to_categorical\n",
        "y_cat_train=to_categorical(y_train,10)\n",
        "y_cat_test=to_categorical(y_test,10)"
      ],
      "execution_count": 7,
      "outputs": []
    },
    {
      "cell_type": "code",
      "metadata": {
        "id": "aFl1OClTi47t",
        "colab_type": "code",
        "colab": {
          "base_uri": "https://localhost:8080/",
          "height": 134
        },
        "outputId": "02474ab6-39d4-4056-a948-e4ffb0d0a911"
      },
      "source": [
        "y_train"
      ],
      "execution_count": 8,
      "outputs": [
        {
          "output_type": "execute_result",
          "data": {
            "text/plain": [
              "array([[6],\n",
              "       [9],\n",
              "       [9],\n",
              "       ...,\n",
              "       [9],\n",
              "       [1],\n",
              "       [1]], dtype=uint8)"
            ]
          },
          "metadata": {
            "tags": []
          },
          "execution_count": 8
        }
      ]
    },
    {
      "cell_type": "code",
      "metadata": {
        "id": "FTjJ7WFei65k",
        "colab_type": "code",
        "colab": {
          "base_uri": "https://localhost:8080/",
          "height": 34
        },
        "outputId": "5c990834-1023-4f16-f68a-79c42c485495"
      },
      "source": [
        "y_train[0]"
      ],
      "execution_count": 9,
      "outputs": [
        {
          "output_type": "execute_result",
          "data": {
            "text/plain": [
              "array([6], dtype=uint8)"
            ]
          },
          "metadata": {
            "tags": []
          },
          "execution_count": 9
        }
      ]
    },
    {
      "cell_type": "code",
      "metadata": {
        "id": "NDeRXmrJjB42",
        "colab_type": "code",
        "colab": {}
      },
      "source": [
        "from keras.models import Sequential\n"
      ],
      "execution_count": 10,
      "outputs": []
    },
    {
      "cell_type": "code",
      "metadata": {
        "id": "V-c0Dg9sjO6S",
        "colab_type": "code",
        "colab": {}
      },
      "source": [
        "from keras.layers import Dense,Dropout,Conv2D,MaxPool2D,Flatten"
      ],
      "execution_count": 11,
      "outputs": []
    },
    {
      "cell_type": "code",
      "metadata": {
        "id": "SxgYGReTjaqQ",
        "colab_type": "code",
        "colab": {}
      },
      "source": [
        "model=Sequential()"
      ],
      "execution_count": 12,
      "outputs": []
    },
    {
      "cell_type": "code",
      "metadata": {
        "id": "dJbWAzfijeeG",
        "colab_type": "code",
        "colab": {}
      },
      "source": [
        "model.add(Conv2D(filters=32,kernel_size=(3,3),strides=(1,1),input_shape=(x_train.shape[1],x_train.shape[2],x_train.shape[3]),activation='relu'))"
      ],
      "execution_count": 13,
      "outputs": []
    },
    {
      "cell_type": "code",
      "metadata": {
        "id": "5yU3LI1cj9OT",
        "colab_type": "code",
        "colab": {}
      },
      "source": [
        "model.add(MaxPool2D(pool_size=(2,2)))"
      ],
      "execution_count": 14,
      "outputs": []
    },
    {
      "cell_type": "code",
      "metadata": {
        "id": "fHWr5CBJkHJG",
        "colab_type": "code",
        "colab": {}
      },
      "source": [
        "model.add(Conv2D(filters=32,kernel_size=(3,3),strides=(1,1),activation='relu'))"
      ],
      "execution_count": 15,
      "outputs": []
    },
    {
      "cell_type": "code",
      "metadata": {
        "id": "3Num74pxkNHd",
        "colab_type": "code",
        "colab": {}
      },
      "source": [
        "model.add(MaxPool2D(pool_size=(2,2)))"
      ],
      "execution_count": 16,
      "outputs": []
    },
    {
      "cell_type": "code",
      "metadata": {
        "id": "tIKOSGX3kOwY",
        "colab_type": "code",
        "colab": {}
      },
      "source": [
        "model.add(Flatten())"
      ],
      "execution_count": 17,
      "outputs": []
    },
    {
      "cell_type": "code",
      "metadata": {
        "id": "LmzpjPjFkR2f",
        "colab_type": "code",
        "colab": {}
      },
      "source": [
        "model.add(Dense(units=300,activation='relu'))\n"
      ],
      "execution_count": 18,
      "outputs": []
    },
    {
      "cell_type": "code",
      "metadata": {
        "id": "SAmRM3e5kjRU",
        "colab_type": "code",
        "colab": {}
      },
      "source": [
        "model.add(Dropout(0.2))\n",
        "model.add(Dense(units=240,activation='relu'))\n",
        "model.add(Dropout(0.2))\n",
        "model.add(Dense(units=170,activation='relu'))\n",
        "model.add(Dropout(0.2))\n",
        "model.add(Dense(units=80,activation='relu'))\n",
        "model.add(Dropout(0.2))\n",
        "model.add(Dense(units=10,activation=\"softmax\"))\n"
      ],
      "execution_count": 19,
      "outputs": []
    },
    {
      "cell_type": "code",
      "metadata": {
        "id": "8GIFGS-ilYkJ",
        "colab_type": "code",
        "colab": {
          "base_uri": "https://localhost:8080/",
          "height": 622
        },
        "outputId": "1588c704-2c1a-4118-9baa-fa5d5f07433c"
      },
      "source": [
        "model.summary()"
      ],
      "execution_count": 20,
      "outputs": [
        {
          "output_type": "stream",
          "text": [
            "Model: \"sequential_1\"\n",
            "_________________________________________________________________\n",
            "Layer (type)                 Output Shape              Param #   \n",
            "=================================================================\n",
            "conv2d_1 (Conv2D)            (None, 30, 30, 32)        896       \n",
            "_________________________________________________________________\n",
            "max_pooling2d_1 (MaxPooling2 (None, 15, 15, 32)        0         \n",
            "_________________________________________________________________\n",
            "conv2d_2 (Conv2D)            (None, 13, 13, 32)        9248      \n",
            "_________________________________________________________________\n",
            "max_pooling2d_2 (MaxPooling2 (None, 6, 6, 32)          0         \n",
            "_________________________________________________________________\n",
            "flatten_1 (Flatten)          (None, 1152)              0         \n",
            "_________________________________________________________________\n",
            "dense_1 (Dense)              (None, 300)               345900    \n",
            "_________________________________________________________________\n",
            "dropout_1 (Dropout)          (None, 300)               0         \n",
            "_________________________________________________________________\n",
            "dense_2 (Dense)              (None, 240)               72240     \n",
            "_________________________________________________________________\n",
            "dropout_2 (Dropout)          (None, 240)               0         \n",
            "_________________________________________________________________\n",
            "dense_3 (Dense)              (None, 170)               40970     \n",
            "_________________________________________________________________\n",
            "dropout_3 (Dropout)          (None, 170)               0         \n",
            "_________________________________________________________________\n",
            "dense_4 (Dense)              (None, 80)                13680     \n",
            "_________________________________________________________________\n",
            "dropout_4 (Dropout)          (None, 80)                0         \n",
            "_________________________________________________________________\n",
            "dense_5 (Dense)              (None, 10)                810       \n",
            "=================================================================\n",
            "Total params: 483,744\n",
            "Trainable params: 483,744\n",
            "Non-trainable params: 0\n",
            "_________________________________________________________________\n"
          ],
          "name": "stdout"
        }
      ]
    },
    {
      "cell_type": "code",
      "metadata": {
        "id": "0JGEBHdIlaWj",
        "colab_type": "code",
        "colab": {}
      },
      "source": [
        "model.compile(loss=\"categorical_crossentropy\",optimizer=\"adam\",metrics=[\"accuracy\"])"
      ],
      "execution_count": 21,
      "outputs": []
    },
    {
      "cell_type": "code",
      "metadata": {
        "id": "60QphIBdl2gC",
        "colab_type": "code",
        "colab": {
          "base_uri": "https://localhost:8080/",
          "height": 622
        },
        "outputId": "6c4a6140-26e9-422d-eb9c-30577e0d6b62"
      },
      "source": [
        "model.summary()"
      ],
      "execution_count": 22,
      "outputs": [
        {
          "output_type": "stream",
          "text": [
            "Model: \"sequential_1\"\n",
            "_________________________________________________________________\n",
            "Layer (type)                 Output Shape              Param #   \n",
            "=================================================================\n",
            "conv2d_1 (Conv2D)            (None, 30, 30, 32)        896       \n",
            "_________________________________________________________________\n",
            "max_pooling2d_1 (MaxPooling2 (None, 15, 15, 32)        0         \n",
            "_________________________________________________________________\n",
            "conv2d_2 (Conv2D)            (None, 13, 13, 32)        9248      \n",
            "_________________________________________________________________\n",
            "max_pooling2d_2 (MaxPooling2 (None, 6, 6, 32)          0         \n",
            "_________________________________________________________________\n",
            "flatten_1 (Flatten)          (None, 1152)              0         \n",
            "_________________________________________________________________\n",
            "dense_1 (Dense)              (None, 300)               345900    \n",
            "_________________________________________________________________\n",
            "dropout_1 (Dropout)          (None, 300)               0         \n",
            "_________________________________________________________________\n",
            "dense_2 (Dense)              (None, 240)               72240     \n",
            "_________________________________________________________________\n",
            "dropout_2 (Dropout)          (None, 240)               0         \n",
            "_________________________________________________________________\n",
            "dense_3 (Dense)              (None, 170)               40970     \n",
            "_________________________________________________________________\n",
            "dropout_3 (Dropout)          (None, 170)               0         \n",
            "_________________________________________________________________\n",
            "dense_4 (Dense)              (None, 80)                13680     \n",
            "_________________________________________________________________\n",
            "dropout_4 (Dropout)          (None, 80)                0         \n",
            "_________________________________________________________________\n",
            "dense_5 (Dense)              (None, 10)                810       \n",
            "=================================================================\n",
            "Total params: 483,744\n",
            "Trainable params: 483,744\n",
            "Non-trainable params: 0\n",
            "_________________________________________________________________\n"
          ],
          "name": "stdout"
        }
      ]
    },
    {
      "cell_type": "code",
      "metadata": {
        "id": "15b1HzYll4mY",
        "colab_type": "code",
        "colab": {}
      },
      "source": [
        "from keras.callbacks import EarlyStopping\n"
      ],
      "execution_count": 23,
      "outputs": []
    },
    {
      "cell_type": "code",
      "metadata": {
        "id": "p6p5UYIumB5B",
        "colab_type": "code",
        "colab": {}
      },
      "source": [
        "early_stop=EarlyStopping(monitor='val_loss',mode='min',patience=2)"
      ],
      "execution_count": 24,
      "outputs": []
    },
    {
      "cell_type": "code",
      "metadata": {
        "id": "_u-BH6p6mK6O",
        "colab_type": "code",
        "colab": {
          "base_uri": "https://localhost:8080/",
          "height": 386
        },
        "outputId": "1521e873-7f23-45a6-9733-c45ecacbdd59"
      },
      "source": [
        "model.fit(x_train,y_cat_train,validation_data=(x_test,y_cat_test),epochs=150,callbacks=[early_stop])"
      ],
      "execution_count": 25,
      "outputs": [
        {
          "output_type": "stream",
          "text": [
            "Train on 50000 samples, validate on 10000 samples\n",
            "Epoch 1/150\n",
            "50000/50000 [==============================] - 11s 227us/step - loss: 2.1082 - accuracy: 0.2403 - val_loss: 1.6935 - val_accuracy: 0.3632\n",
            "Epoch 2/150\n",
            "50000/50000 [==============================] - 10s 192us/step - loss: 1.6535 - accuracy: 0.3941 - val_loss: 1.5269 - val_accuracy: 0.4573\n",
            "Epoch 3/150\n",
            "50000/50000 [==============================] - 10s 193us/step - loss: 1.4883 - accuracy: 0.4730 - val_loss: 1.3675 - val_accuracy: 0.5231\n",
            "Epoch 4/150\n",
            "50000/50000 [==============================] - 10s 194us/step - loss: 1.3748 - accuracy: 0.5195 - val_loss: 1.3370 - val_accuracy: 0.5333\n",
            "Epoch 5/150\n",
            "50000/50000 [==============================] - 10s 190us/step - loss: 1.2858 - accuracy: 0.5542 - val_loss: 1.2590 - val_accuracy: 0.5640\n",
            "Epoch 6/150\n",
            "50000/50000 [==============================] - 10s 191us/step - loss: 1.2108 - accuracy: 0.5874 - val_loss: 1.2151 - val_accuracy: 0.5824\n",
            "Epoch 7/150\n",
            "50000/50000 [==============================] - 9s 189us/step - loss: 1.1362 - accuracy: 0.6131 - val_loss: 1.1685 - val_accuracy: 0.5979\n",
            "Epoch 8/150\n",
            "50000/50000 [==============================] - 9s 190us/step - loss: 1.0937 - accuracy: 0.6309 - val_loss: 1.1069 - val_accuracy: 0.6160\n",
            "Epoch 9/150\n",
            "50000/50000 [==============================] - 9s 187us/step - loss: 1.0313 - accuracy: 0.6544 - val_loss: 1.1319 - val_accuracy: 0.6184\n",
            "Epoch 10/150\n",
            "50000/50000 [==============================] - 10s 191us/step - loss: 0.9869 - accuracy: 0.6694 - val_loss: 1.1327 - val_accuracy: 0.6221\n"
          ],
          "name": "stdout"
        },
        {
          "output_type": "execute_result",
          "data": {
            "text/plain": [
              "<keras.callbacks.callbacks.History at 0x7f4e54697748>"
            ]
          },
          "metadata": {
            "tags": []
          },
          "execution_count": 25
        }
      ]
    },
    {
      "cell_type": "code",
      "metadata": {
        "id": "ShPw-xGUmfKW",
        "colab_type": "code",
        "colab": {}
      },
      "source": [
        "metric=pd.DataFrame(model.history.history)"
      ],
      "execution_count": 26,
      "outputs": []
    },
    {
      "cell_type": "code",
      "metadata": {
        "id": "1CUlsUdYnf5i",
        "colab_type": "code",
        "colab": {
          "base_uri": "https://localhost:8080/",
          "height": 343
        },
        "outputId": "87df038d-9098-4f06-a6ff-7e38d2e7f613"
      },
      "source": [
        "metric"
      ],
      "execution_count": 27,
      "outputs": [
        {
          "output_type": "execute_result",
          "data": {
            "text/html": [
              "<div>\n",
              "<style scoped>\n",
              "    .dataframe tbody tr th:only-of-type {\n",
              "        vertical-align: middle;\n",
              "    }\n",
              "\n",
              "    .dataframe tbody tr th {\n",
              "        vertical-align: top;\n",
              "    }\n",
              "\n",
              "    .dataframe thead th {\n",
              "        text-align: right;\n",
              "    }\n",
              "</style>\n",
              "<table border=\"1\" class=\"dataframe\">\n",
              "  <thead>\n",
              "    <tr style=\"text-align: right;\">\n",
              "      <th></th>\n",
              "      <th>val_loss</th>\n",
              "      <th>val_accuracy</th>\n",
              "      <th>loss</th>\n",
              "      <th>accuracy</th>\n",
              "    </tr>\n",
              "  </thead>\n",
              "  <tbody>\n",
              "    <tr>\n",
              "      <th>0</th>\n",
              "      <td>1.693520</td>\n",
              "      <td>0.3632</td>\n",
              "      <td>2.108182</td>\n",
              "      <td>0.24034</td>\n",
              "    </tr>\n",
              "    <tr>\n",
              "      <th>1</th>\n",
              "      <td>1.526897</td>\n",
              "      <td>0.4573</td>\n",
              "      <td>1.653486</td>\n",
              "      <td>0.39414</td>\n",
              "    </tr>\n",
              "    <tr>\n",
              "      <th>2</th>\n",
              "      <td>1.367518</td>\n",
              "      <td>0.5231</td>\n",
              "      <td>1.488290</td>\n",
              "      <td>0.47302</td>\n",
              "    </tr>\n",
              "    <tr>\n",
              "      <th>3</th>\n",
              "      <td>1.336975</td>\n",
              "      <td>0.5333</td>\n",
              "      <td>1.374824</td>\n",
              "      <td>0.51948</td>\n",
              "    </tr>\n",
              "    <tr>\n",
              "      <th>4</th>\n",
              "      <td>1.259043</td>\n",
              "      <td>0.5640</td>\n",
              "      <td>1.285822</td>\n",
              "      <td>0.55416</td>\n",
              "    </tr>\n",
              "    <tr>\n",
              "      <th>5</th>\n",
              "      <td>1.215138</td>\n",
              "      <td>0.5824</td>\n",
              "      <td>1.210810</td>\n",
              "      <td>0.58738</td>\n",
              "    </tr>\n",
              "    <tr>\n",
              "      <th>6</th>\n",
              "      <td>1.168534</td>\n",
              "      <td>0.5979</td>\n",
              "      <td>1.136189</td>\n",
              "      <td>0.61314</td>\n",
              "    </tr>\n",
              "    <tr>\n",
              "      <th>7</th>\n",
              "      <td>1.106947</td>\n",
              "      <td>0.6160</td>\n",
              "      <td>1.093740</td>\n",
              "      <td>0.63086</td>\n",
              "    </tr>\n",
              "    <tr>\n",
              "      <th>8</th>\n",
              "      <td>1.131871</td>\n",
              "      <td>0.6184</td>\n",
              "      <td>1.031345</td>\n",
              "      <td>0.65442</td>\n",
              "    </tr>\n",
              "    <tr>\n",
              "      <th>9</th>\n",
              "      <td>1.132735</td>\n",
              "      <td>0.6221</td>\n",
              "      <td>0.986863</td>\n",
              "      <td>0.66940</td>\n",
              "    </tr>\n",
              "  </tbody>\n",
              "</table>\n",
              "</div>"
            ],
            "text/plain": [
              "   val_loss  val_accuracy      loss  accuracy\n",
              "0  1.693520        0.3632  2.108182   0.24034\n",
              "1  1.526897        0.4573  1.653486   0.39414\n",
              "2  1.367518        0.5231  1.488290   0.47302\n",
              "3  1.336975        0.5333  1.374824   0.51948\n",
              "4  1.259043        0.5640  1.285822   0.55416\n",
              "5  1.215138        0.5824  1.210810   0.58738\n",
              "6  1.168534        0.5979  1.136189   0.61314\n",
              "7  1.106947        0.6160  1.093740   0.63086\n",
              "8  1.131871        0.6184  1.031345   0.65442\n",
              "9  1.132735        0.6221  0.986863   0.66940"
            ]
          },
          "metadata": {
            "tags": []
          },
          "execution_count": 27
        }
      ]
    },
    {
      "cell_type": "code",
      "metadata": {
        "id": "KpK0AXefngsW",
        "colab_type": "code",
        "colab": {
          "base_uri": "https://localhost:8080/",
          "height": 282
        },
        "outputId": "b63f1990-c6e2-4442-fa74-5b38665ab8fe"
      },
      "source": [
        "metric[[\"val_loss\",\"loss\"]].plot()"
      ],
      "execution_count": 28,
      "outputs": [
        {
          "output_type": "execute_result",
          "data": {
            "text/plain": [
              "<matplotlib.axes._subplots.AxesSubplot at 0x7f4e53c47c50>"
            ]
          },
          "metadata": {
            "tags": []
          },
          "execution_count": 28
        },
        {
          "output_type": "display_data",
          "data": {
            "image/png": "[encoded data removed]",
            "text/plain": [
              "<Figure size 432x288 with 1 Axes>"
            ]
          },
          "metadata": {
            "tags": [],
            "needs_background": "light"
          }
        }
      ]
    },
    {
      "cell_type": "code",
      "metadata": {
        "id": "GY_fp8Zvno9_",
        "colab_type": "code",
        "colab": {
          "base_uri": "https://localhost:8080/",
          "height": 282
        },
        "outputId": "845cb8ec-61bf-4206-9218-3569644110a5"
      },
      "source": [
        "metric[[\"val_accuracy\",\"accuracy\"]].plot()"
      ],
      "execution_count": 29,
      "outputs": [
        {
          "output_type": "execute_result",
          "data": {
            "text/plain": [
              "<matplotlib.axes._subplots.AxesSubplot at 0x7f4e53bf04e0>"
            ]
          },
          "metadata": {
            "tags": []
          },
          "execution_count": 29
        },
        {
          "output_type": "display_data",
          "data": {
            "image/png": "[encoded data removed]",
            "text/plain": [
              "<Figure size 432x288 with 1 Axes>"
            ]
          },
          "metadata": {
            "tags": [],
            "needs_background": "light"
          }
        }
      ]
    },
    {
      "cell_type": "code",
      "metadata": {
        "id": "NZDcZ_PDou2U",
        "colab_type": "code",
        "colab": {
          "base_uri": "https://localhost:8080/",
          "height": 50
        },
        "outputId": "8ab34df8-dfb4-4a6b-be54-f2f0f8014451"
      },
      "source": [
        "model.evaluate(x_test,y_cat_test)"
      ],
      "execution_count": 30,
      "outputs": [
        {
          "output_type": "stream",
          "text": [
            "10000/10000 [==============================] - 1s 78us/step\n"
          ],
          "name": "stdout"
        },
        {
          "output_type": "execute_result",
          "data": {
            "text/plain": [
              "[1.1327350543022157, 0.6220999956130981]"
            ]
          },
          "metadata": {
            "tags": []
          },
          "execution_count": 30
        }
      ]
    },
    {
      "cell_type": "code",
      "metadata": {
        "id": "qu83o6xto1S7",
        "colab_type": "code",
        "colab": {}
      },
      "source": [
        "predictions=model.predict_classes(x_test)"
      ],
      "execution_count": 31,
      "outputs": []
    },
    {
      "cell_type": "code",
      "metadata": {
        "id": "4SGanDksrbyD",
        "colab_type": "code",
        "colab": {
          "base_uri": "https://localhost:8080/",
          "height": 34
        },
        "outputId": "333063c1-8846-4e09-e028-13c555f9eb59"
      },
      "source": [
        "predictions.ndim,y_test.reshape(-1,).ndim"
      ],
      "execution_count": 48,
      "outputs": [
        {
          "output_type": "execute_result",
          "data": {
            "text/plain": [
              "(1, 1)"
            ]
          },
          "metadata": {
            "tags": []
          },
          "execution_count": 48
        }
      ]
    },
    {
      "cell_type": "code",
      "metadata": {
        "id": "CrOYcbSGrdyW",
        "colab_type": "code",
        "colab": {
          "base_uri": "https://localhost:8080/",
          "height": 102
        },
        "outputId": "3b1ee1b1-cbac-4bf0-ab74-f2bd62c9f948"
      },
      "source": [
        "from sklearn.metrics import confusion_matrix,classification_report\n",
        "classification_report(y_test,predictions)"
      ],
      "execution_count": 51,
      "outputs": [
        {
          "output_type": "execute_result",
          "data": {
            "application/vnd.google.colaboratory.intrinsic": {
              "type": "string"
            },
            "text/plain": [
              "'              precision    recall  f1-score   support\\n\\n           0       0.73      0.62      0.67      1000\\n           1       0.75      0.81      0.78      1000\\n           2       0.61      0.38      0.46      1000\\n           3       0.34      0.59      0.43      1000\\n           4       0.51      0.62      0.56      1000\\n           5       0.70      0.31      0.43      1000\\n           6       0.62      0.84      0.71      1000\\n           7       0.75      0.65      0.70      1000\\n           8       0.81      0.73      0.77      1000\\n           9       0.72      0.67      0.70      1000\\n\\n    accuracy                           0.62     10000\\n   macro avg       0.65      0.62      0.62     10000\\nweighted avg       0.65      0.62      0.62     10000\\n'"
            ]
          },
          "metadata": {
            "tags": []
          },
          "execution_count": 51
        }
      ]
    },
    {
      "cell_type": "code",
      "metadata": {
        "id": "KFt2gO-vtIP-",
        "colab_type": "code",
        "colab": {
          "base_uri": "https://localhost:8080/",
          "height": 282
        },
        "outputId": "e18a91d8-7e36-42cb-e05b-081ff8786e82"
      },
      "source": [
        "sns.heatmap(confusion_matrix(y_test,predictions))"
      ],
      "execution_count": 53,
      "outputs": [
        {
          "output_type": "execute_result",
          "data": {
            "text/plain": [
              "<matplotlib.axes._subplots.AxesSubplot at 0x7f4e44accbe0>"
            ]
          },
          "metadata": {
            "tags": []
          },
          "execution_count": 53
        },
        {
          "output_type": "display_data",
          "data": {
            "image/png": "[encoded data removed]",
            "text/plain": [
              "<Figure size 432x288 with 2 Axes>"
            ]
          },
          "metadata": {
            "tags": [],
            "needs_background": "light"
          }
        }
      ]
    },
    {
      "cell_type": "code",
      "metadata": {
        "id": "9SnLk5glvAgk",
        "colab_type": "code",
        "colab": {
          "base_uri": "https://localhost:8080/",
          "height": 840
        },
        "outputId": "961efeaf-56f4-40d5-8b35-194aa88fe408"
      },
      "source": [
        "x_test[0]"
      ],
      "execution_count": 54,
      "outputs": [
        {
          "output_type": "execute_result",
          "data": {
            "text/plain": [
              "array([[[158, 112,  49],\n",
              "        [159, 111,  47],\n",
              "        [165, 116,  51],\n",
              "        ...,\n",
              "        [137,  95,  36],\n",
              "        [126,  91,  36],\n",
              "        [116,  85,  33]],\n",
              "\n",
              "       [[152, 112,  51],\n",
              "        [151, 110,  40],\n",
              "        [159, 114,  45],\n",
              "        ...,\n",
              "        [136,  95,  31],\n",
              "        [125,  91,  32],\n",
              "        [119,  88,  34]],\n",
              "\n",
              "       [[151, 110,  47],\n",
              "        [151, 109,  33],\n",
              "        [158, 111,  36],\n",
              "        ...,\n",
              "        [139,  98,  34],\n",
              "        [130,  95,  34],\n",
              "        [120,  89,  33]],\n",
              "\n",
              "       ...,\n",
              "\n",
              "       [[ 68, 124, 177],\n",
              "        [ 42, 100, 148],\n",
              "        [ 31,  88, 137],\n",
              "        ...,\n",
              "        [ 38,  97, 146],\n",
              "        [ 13,  64, 108],\n",
              "        [ 40,  85, 127]],\n",
              "\n",
              "       [[ 61, 116, 168],\n",
              "        [ 49, 102, 148],\n",
              "        [ 35,  85, 132],\n",
              "        ...,\n",
              "        [ 26,  82, 130],\n",
              "        [ 29,  82, 126],\n",
              "        [ 20,  64, 107]],\n",
              "\n",
              "       [[ 54, 107, 160],\n",
              "        [ 56, 105, 149],\n",
              "        [ 45,  89, 132],\n",
              "        ...,\n",
              "        [ 24,  77, 124],\n",
              "        [ 34,  84, 129],\n",
              "        [ 21,  67, 110]]], dtype=uint8)"
            ]
          },
          "metadata": {
            "tags": []
          },
          "execution_count": 54
        }
      ]
    },
    {
      "cell_type": "code",
      "metadata": {
        "id": "6Aw5-nHlvMh1",
        "colab_type": "code",
        "colab": {
          "base_uri": "https://localhost:8080/",
          "height": 34
        },
        "outputId": "22f25352-d7a6-4fcd-922a-e5bc2d428a79"
      },
      "source": [
        "y_test[90]"
      ],
      "execution_count": 61,
      "outputs": [
        {
          "output_type": "execute_result",
          "data": {
            "text/plain": [
              "array([0])"
            ]
          },
          "metadata": {
            "tags": []
          },
          "execution_count": 61
        }
      ]
    },
    {
      "cell_type": "code",
      "metadata": {
        "id": "y3Dj2kWKvQsf",
        "colab_type": "code",
        "colab": {
          "base_uri": "https://localhost:8080/",
          "height": 34
        },
        "outputId": "5b74ef4b-60d7-4901-a967-04b8e30a8b41"
      },
      "source": [
        "model.predict_classes(x_test[90].reshape(1,32,32,3))"
      ],
      "execution_count": 62,
      "outputs": [
        {
          "output_type": "execute_result",
          "data": {
            "text/plain": [
              "array([0])"
            ]
          },
          "metadata": {
            "tags": []
          },
          "execution_count": 62
        }
      ]
    },
    {
      "cell_type": "code",
      "metadata": {
        "id": "PFdwEW9Sva5E",
        "colab_type": "code",
        "colab": {}
      },
      "source": [
        ""
      ],
      "execution_count": null,
      "outputs": []
    }
  ]
}